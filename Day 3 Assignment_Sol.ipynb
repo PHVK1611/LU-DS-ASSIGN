{
 "metadata": {
  "language_info": {
   "codemirror_mode": {
    "name": "ipython",
    "version": 3
   },
   "file_extension": ".py",
   "mimetype": "text/x-python",
   "name": "python",
   "nbconvert_exporter": "python",
   "pygments_lexer": "ipython3",
   "version": "3.7.4-final"
  },
  "orig_nbformat": 2,
  "kernelspec": {
   "name": "python3",
   "display_name": "Python 3"
  }
 },
 "nbformat": 4,
 "nbformat_minor": 2,
 "cells": [
  {
   "source": [
    "## Questions 1:\n",
    "Create a numpy array starting from 2 till 50 with a stepsize of 3."
   ],
   "cell_type": "markdown",
   "metadata": {}
  },
  {
   "cell_type": "code",
   "execution_count": 4,
   "metadata": {},
   "outputs": [
    {
     "output_type": "stream",
     "name": "stdout",
     "text": [
      "[ 2  5  8 11 14 17 20 23 26 29 32 35 38 41 44 47]\n"
     ]
    }
   ],
   "source": [
    "import numpy as np \n",
    "arr=np.arange(2,50,3)\n",
    "print(arr)"
   ]
  },
  {
   "cell_type": "code",
   "execution_count": null,
   "metadata": {},
   "outputs": [],
   "source": []
  },
  {
   "source": [
    "## Question - 2\n",
    "Accept two lists of 5 elements each from the user. Convert them to numpy arrays. Concatenate these arrays and print it. Also sort these arrays and print it."
   ],
   "cell_type": "markdown",
   "metadata": {}
  },
  {
   "cell_type": "code",
   "execution_count": 7,
   "metadata": {},
   "outputs": [
    {
     "output_type": "stream",
     "name": "stdout",
     "text": [
      "['1' '2' '3' '4' '5' '6' '3' '1' '3' '5']\n['1' '1' '2' '3' '3' '3' '4' '5' '5' '6']\n"
     ]
    }
   ],
   "source": [
    "l1=[]\n",
    "l2=[]\n",
    "for i in range(5):\n",
    "    x=input(\"l1-enter 5 elements: \")   # taking inputs from user\n",
    "    l1.append(x)\n",
    "for i in range(5):\n",
    "    x=input(\"l2-enter 5 elements: \") # taking inputs from user\n",
    "    l2.append(x)\n",
    "arr1=np.array(l1) \n",
    "arr2=np.array(l2)\n",
    "arr=np.concatenate((arr1,arr2)) # concatenate\n",
    "print(arr)\n",
    "arr_sort=np.sort(arr)#sorting\n",
    "print(arr_sort)"
   ]
  },
  {
   "cell_type": "code",
   "execution_count": null,
   "metadata": {},
   "outputs": [],
   "source": []
  },
  {
   "source": [
    "## Questions 3:\n",
    "Write a code snippet to find the dimensions of a ndarray and its size."
   ],
   "cell_type": "markdown",
   "metadata": {}
  },
  {
   "cell_type": "code",
   "execution_count": 14,
   "metadata": {},
   "outputs": [
    {
     "output_type": "stream",
     "name": "stdout",
     "text": [
      "dimension: 2\nsize : 6\n"
     ]
    }
   ],
   "source": [
    "arr=np.array([[1,2,3],[4,5,6]])\n",
    "dim=arr.ndim\n",
    "size=arr.size\n",
    "print(\"dimension:\",dim)\n",
    "print(\"size :\",size)\n"
   ]
  },
  {
   "cell_type": "code",
   "execution_count": null,
   "metadata": {},
   "outputs": [],
   "source": []
  },
  {
   "source": [
    "## Questions 4:\n",
    "How to convert a 1D array into a 2D array? Demonstrate with the help of a code snippet\n",
    "Hint: np.newaxis, np.expand_dims"
   ],
   "cell_type": "markdown",
   "metadata": {}
  },
  {
   "cell_type": "code",
   "execution_count": 20,
   "metadata": {},
   "outputs": [
    {
     "output_type": "stream",
     "name": "stdout",
     "text": [
      "Shape : (5,)\n\nShape of arr1:  (1, 5)\n\nShape of arr2:  (5, 1)\n"
     ]
    }
   ],
   "source": [
    "arr = np.arange(5)\n",
    "print(\"Shape :\",arr.shape)\n",
    "arr1=arr[np.newaxis,:]\n",
    "print(\"\\nShape of arr1: \",arr1.shape)\n",
    "arr2=arr[:,np.newaxis]\n",
    "print(\"\\nShape of arr2: \",arr2.shape)\n",
    "\n",
    "\n"
   ]
  },
  {
   "cell_type": "code",
   "execution_count": null,
   "metadata": {},
   "outputs": [],
   "source": []
  },
  {
   "cell_type": "code",
   "execution_count": null,
   "metadata": {},
   "outputs": [],
   "source": [
    "## Questions 5:\n",
    "Consider two square numpy arrays. Stack them vertically and horizontally.\n",
    "Hint: Use vstack(), hstack()\n"
   ]
  },
  {
   "cell_type": "code",
   "execution_count": 27,
   "metadata": {},
   "outputs": [
    {
     "output_type": "stream",
     "name": "stdout",
     "text": [
      "vertical stack : [[  1   4   9  16  25]\n [ 36  49  64  81 100]]\n\nHorizontal stack:  [  1   4   9  16  25  36  49  64  81 100]\n"
     ]
    }
   ],
   "source": [
    "arr1 = np.square([1,2,3,4,5])\n",
    "arr2 = np.square([6,7,8,9,10])\n",
    "arr_vs=np.vstack((arr1,arr2))\n",
    "print(\"vertical stack :\",arr_vs)\n",
    "arr_hs=np.hstack((arr1,arr2))\n",
    "print(\"\\nHorizontal stack: \",arr_hs)"
   ]
  },
  {
   "cell_type": "code",
   "execution_count": null,
   "metadata": {},
   "outputs": [],
   "source": []
  },
  {
   "source": [
    "## Questions 6:\n",
    "How to get unique items and counts of unique items?"
   ],
   "cell_type": "markdown",
   "metadata": {}
  },
  {
   "cell_type": "code",
   "execution_count": 46,
   "metadata": {},
   "outputs": [
    {
     "output_type": "stream",
     "name": "stdout",
     "text": [
      "[[   0    1]\n [   1    2]\n [   2    3]\n [   3    1]\n [   4    1]\n [   5    3]\n [   7    2]\n [  73    1]\n [1336    1]\n [2335    1]]\n"
     ]
    }
   ],
   "source": [
    "arr=np.array([1,3,2,5,2,7,5,2,5,2335,1336,1,73,4,7,0])\n",
    "#arr_unqitems=np.unique(arr)\n",
    "arr_unqitems,arr_count_unqitems = np.unique(arr,return_counts=True)\n",
    "#print(arr_unqitems)\n",
    "arr_f=np.array((arr_unqitems,arr_count_unqitems)).T\n",
    "print(arr_f)"
   ]
  },
  {
   "cell_type": "code",
   "execution_count": null,
   "metadata": {},
   "outputs": [],
   "source": []
  },
  {
   "cell_type": "code",
   "execution_count": null,
   "metadata": {},
   "outputs": [],
   "source": []
  }
 ]
}