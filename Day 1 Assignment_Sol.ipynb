{
 "metadata": {
  "language_info": {
   "codemirror_mode": {
    "name": "ipython",
    "version": 3
   },
   "file_extension": ".py",
   "mimetype": "text/x-python",
   "name": "python",
   "nbconvert_exporter": "python",
   "pygments_lexer": "ipython3",
   "version": "3.7.4-final"
  },
  "orig_nbformat": 2,
  "kernelspec": {
   "name": "python3",
   "display_name": "Python 3"
  }
 },
 "nbformat": 4,
 "nbformat_minor": 2,
 "cells": [
  {
   "source": [
    "## Questions 1:\n",
    "Given the following jumbled word, OBANWRI guess the correct English word.\n",
    "\n",
    "A. RANIBOW\n",
    "\n",
    "B. RAINBOW\n",
    "\n",
    "C. BOWRANI\n",
    "\n",
    "D. ROBWANI"
   ],
   "cell_type": "markdown",
   "metadata": {}
  },
  {
   "source": [
    "## Ans: B.RAINBOW"
   ],
   "cell_type": "markdown",
   "metadata": {}
  },
  {
   "cell_type": "code",
   "execution_count": null,
   "metadata": {},
   "outputs": [],
   "source": []
  },
  {
   "source": [
    "## Questions 2:\n",
    "Write a program which prints “LETS UPGRADE”. (Please note that you have to print in ALL CAPS as given)"
   ],
   "cell_type": "markdown",
   "metadata": {}
  },
  {
   "cell_type": "code",
   "execution_count": 6,
   "metadata": {},
   "outputs": [
    {
     "output_type": "stream",
     "name": "stdout",
     "text": [
      "LETS UPGRADE\n"
     ]
    }
   ],
   "source": [
    "print(\"LETS UPGRADE\")"
   ]
  },
  {
   "cell_type": "code",
   "execution_count": null,
   "metadata": {},
   "outputs": [],
   "source": []
  },
  {
   "source": [
    "## Questions 3:\n",
    "Write a program that takes cost price and selling price as input and displays whether the transaction is a\n",
    "Profit or a Loss or Neither.\n",
    "\n",
    "INPUT FORMAT\n",
    "\n",
    "The first line contains the cost price.\n",
    "The second line contains the selling price.\n",
    "\n",
    "OUTPUT FORMAT\n",
    "\n",
    "Print \"Profit\" if the transaction is a profit or \"Loss\" if it is a loss. If it is neither\n",
    "profit nor loss, print \"Neither\". (You must not have quotes in your output)"
   ],
   "cell_type": "markdown",
   "metadata": {}
  },
  {
   "cell_type": "code",
   "execution_count": 12,
   "metadata": {},
   "outputs": [
    {
     "output_type": "stream",
     "name": "stdout",
     "text": [
      "Profit\n"
     ]
    }
   ],
   "source": [
    "#cp==cost price    sp==selling price\n",
    "cp=input()\n",
    "sp=input()\n",
    "if(cp>sp):\n",
    "    print(\"Loss\")\n",
    "elif(sp>cp):\n",
    "    print(\"Profit\")\n",
    "else:\n",
    "    print(\"Neither\")\n",
    "# giving cp=20 ,sp=30 as input for example."
   ]
  },
  {
   "cell_type": "code",
   "execution_count": null,
   "metadata": {},
   "outputs": [],
   "source": []
  },
  {
   "cell_type": "code",
   "execution_count": 17,
   "metadata": {},
   "outputs": [
    {
     "output_type": "stream",
     "name": "stdout",
     "text": [
      "1600\n"
     ]
    }
   ],
   "source": [
    "#amt_euro== amount in euros as input\n",
    "amt_euro=int(input())\n",
    "amt_rupees=amt_euro*80 # given 1 euro = 80 rupees\n",
    "print(amt_rupees)\n",
    "# giving amt_euro=20 as input for example."
   ]
  },
  {
   "source": [
    "##"
   ],
   "cell_type": "markdown",
   "metadata": {}
  },
  {
   "source": [
    "## -----------------------END------------------------"
   ],
   "cell_type": "markdown",
   "metadata": {}
  }
 ]
}